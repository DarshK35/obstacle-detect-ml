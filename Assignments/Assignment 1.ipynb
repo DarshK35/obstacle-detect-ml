{
 "cells": [
  {
   "attachments": {},
   "cell_type": "markdown",
   "metadata": {},
   "source": [
    "# Assignment 1\n",
    "Submission by:\n",
    "\n",
    "> Darsh Kumar\n",
    "> \n",
    "> 20BCE0301"
   ]
  },
  {
   "cell_type": "code",
   "execution_count": 1,
   "metadata": {},
   "outputs": [],
   "source": [
    "# Importing libraries\n",
    "import numpy as np\n",
    "import pandas as pd"
   ]
  },
  {
   "cell_type": "code",
   "execution_count": 2,
   "metadata": {},
   "outputs": [
    {
     "data": {
      "text/html": [
       "<div>\n",
       "<style scoped>\n",
       "    .dataframe tbody tr th:only-of-type {\n",
       "        vertical-align: middle;\n",
       "    }\n",
       "\n",
       "    .dataframe tbody tr th {\n",
       "        vertical-align: top;\n",
       "    }\n",
       "\n",
       "    .dataframe thead th {\n",
       "        text-align: right;\n",
       "    }\n",
       "</style>\n",
       "<table border=\"1\" class=\"dataframe\">\n",
       "  <thead>\n",
       "    <tr style=\"text-align: right;\">\n",
       "      <th></th>\n",
       "      <th>0</th>\n",
       "      <th>1</th>\n",
       "      <th>2</th>\n",
       "      <th>3</th>\n",
       "    </tr>\n",
       "  </thead>\n",
       "  <tbody>\n",
       "    <tr>\n",
       "      <th>0</th>\n",
       "      <td>0.556431</td>\n",
       "      <td>0.286582</td>\n",
       "      <td>0.503706</td>\n",
       "      <td>0.095383</td>\n",
       "    </tr>\n",
       "    <tr>\n",
       "      <th>1</th>\n",
       "      <td>0.092561</td>\n",
       "      <td>0.866075</td>\n",
       "      <td>0.536781</td>\n",
       "      <td>0.418565</td>\n",
       "    </tr>\n",
       "    <tr>\n",
       "      <th>2</th>\n",
       "      <td>0.907966</td>\n",
       "      <td>0.489465</td>\n",
       "      <td>0.898027</td>\n",
       "      <td>0.747778</td>\n",
       "    </tr>\n",
       "    <tr>\n",
       "      <th>3</th>\n",
       "      <td>0.184033</td>\n",
       "      <td>0.463819</td>\n",
       "      <td>0.575121</td>\n",
       "      <td>0.905800</td>\n",
       "    </tr>\n",
       "  </tbody>\n",
       "</table>\n",
       "</div>"
      ],
      "text/plain": [
       "          0         1         2         3\n",
       "0  0.556431  0.286582  0.503706  0.095383\n",
       "1  0.092561  0.866075  0.536781  0.418565\n",
       "2  0.907966  0.489465  0.898027  0.747778\n",
       "3  0.184033  0.463819  0.575121  0.905800"
      ]
     },
     "execution_count": 2,
     "metadata": {},
     "output_type": "execute_result"
    }
   ],
   "source": [
    "# Task 1\n",
    "df = pd.DataFrame(np.random.random((4, 4)))\n",
    "df"
   ]
  },
  {
   "cell_type": "code",
   "execution_count": 3,
   "metadata": {},
   "outputs": [
    {
     "data": {
      "text/html": [
       "<div>\n",
       "<style scoped>\n",
       "    .dataframe tbody tr th:only-of-type {\n",
       "        vertical-align: middle;\n",
       "    }\n",
       "\n",
       "    .dataframe tbody tr th {\n",
       "        vertical-align: top;\n",
       "    }\n",
       "\n",
       "    .dataframe thead th {\n",
       "        text-align: right;\n",
       "    }\n",
       "</style>\n",
       "<table border=\"1\" class=\"dataframe\">\n",
       "  <thead>\n",
       "    <tr style=\"text-align: right;\">\n",
       "      <th></th>\n",
       "      <th>Random value 1</th>\n",
       "      <th>Random value 2</th>\n",
       "      <th>Random value 3</th>\n",
       "      <th>Random value 4</th>\n",
       "    </tr>\n",
       "  </thead>\n",
       "  <tbody>\n",
       "    <tr>\n",
       "      <th>0</th>\n",
       "      <td>0.556431</td>\n",
       "      <td>0.286582</td>\n",
       "      <td>0.503706</td>\n",
       "      <td>0.095383</td>\n",
       "    </tr>\n",
       "    <tr>\n",
       "      <th>1</th>\n",
       "      <td>0.092561</td>\n",
       "      <td>0.866075</td>\n",
       "      <td>0.536781</td>\n",
       "      <td>0.418565</td>\n",
       "    </tr>\n",
       "    <tr>\n",
       "      <th>2</th>\n",
       "      <td>0.907966</td>\n",
       "      <td>0.489465</td>\n",
       "      <td>0.898027</td>\n",
       "      <td>0.747778</td>\n",
       "    </tr>\n",
       "    <tr>\n",
       "      <th>3</th>\n",
       "      <td>0.184033</td>\n",
       "      <td>0.463819</td>\n",
       "      <td>0.575121</td>\n",
       "      <td>0.905800</td>\n",
       "    </tr>\n",
       "  </tbody>\n",
       "</table>\n",
       "</div>"
      ],
      "text/plain": [
       "   Random value 1  Random value 2  Random value 3  Random value 4\n",
       "0        0.556431        0.286582        0.503706        0.095383\n",
       "1        0.092561        0.866075        0.536781        0.418565\n",
       "2        0.907966        0.489465        0.898027        0.747778\n",
       "3        0.184033        0.463819        0.575121        0.905800"
      ]
     },
     "execution_count": 3,
     "metadata": {},
     "output_type": "execute_result"
    }
   ],
   "source": [
    "# Task 2\n",
    "df.columns = [\"Random value \" + str(i + 1) for i in range(4)]\n",
    "df"
   ]
  },
  {
   "cell_type": "code",
   "execution_count": 4,
   "metadata": {},
   "outputs": [
    {
     "data": {
      "text/html": [
       "<div>\n",
       "<style scoped>\n",
       "    .dataframe tbody tr th:only-of-type {\n",
       "        vertical-align: middle;\n",
       "    }\n",
       "\n",
       "    .dataframe tbody tr th {\n",
       "        vertical-align: top;\n",
       "    }\n",
       "\n",
       "    .dataframe thead th {\n",
       "        text-align: right;\n",
       "    }\n",
       "</style>\n",
       "<table border=\"1\" class=\"dataframe\">\n",
       "  <thead>\n",
       "    <tr style=\"text-align: right;\">\n",
       "      <th></th>\n",
       "      <th>Random value 1</th>\n",
       "      <th>Random value 2</th>\n",
       "      <th>Random value 3</th>\n",
       "      <th>Random value 4</th>\n",
       "    </tr>\n",
       "  </thead>\n",
       "  <tbody>\n",
       "    <tr>\n",
       "      <th>count</th>\n",
       "      <td>4.000000</td>\n",
       "      <td>4.000000</td>\n",
       "      <td>4.000000</td>\n",
       "      <td>4.000000</td>\n",
       "    </tr>\n",
       "    <tr>\n",
       "      <th>mean</th>\n",
       "      <td>0.435248</td>\n",
       "      <td>0.526485</td>\n",
       "      <td>0.628409</td>\n",
       "      <td>0.541881</td>\n",
       "    </tr>\n",
       "    <tr>\n",
       "      <th>std</th>\n",
       "      <td>0.373582</td>\n",
       "      <td>0.243702</td>\n",
       "      <td>0.182099</td>\n",
       "      <td>0.360277</td>\n",
       "    </tr>\n",
       "    <tr>\n",
       "      <th>min</th>\n",
       "      <td>0.092561</td>\n",
       "      <td>0.286582</td>\n",
       "      <td>0.503706</td>\n",
       "      <td>0.095383</td>\n",
       "    </tr>\n",
       "    <tr>\n",
       "      <th>25%</th>\n",
       "      <td>0.161165</td>\n",
       "      <td>0.419510</td>\n",
       "      <td>0.528513</td>\n",
       "      <td>0.337769</td>\n",
       "    </tr>\n",
       "    <tr>\n",
       "      <th>50%</th>\n",
       "      <td>0.370232</td>\n",
       "      <td>0.476642</td>\n",
       "      <td>0.555951</td>\n",
       "      <td>0.583171</td>\n",
       "    </tr>\n",
       "    <tr>\n",
       "      <th>75%</th>\n",
       "      <td>0.644314</td>\n",
       "      <td>0.583618</td>\n",
       "      <td>0.655847</td>\n",
       "      <td>0.787284</td>\n",
       "    </tr>\n",
       "    <tr>\n",
       "      <th>max</th>\n",
       "      <td>0.907966</td>\n",
       "      <td>0.866075</td>\n",
       "      <td>0.898027</td>\n",
       "      <td>0.905800</td>\n",
       "    </tr>\n",
       "  </tbody>\n",
       "</table>\n",
       "</div>"
      ],
      "text/plain": [
       "       Random value 1  Random value 2  Random value 3  Random value 4\n",
       "count        4.000000        4.000000        4.000000        4.000000\n",
       "mean         0.435248        0.526485        0.628409        0.541881\n",
       "std          0.373582        0.243702        0.182099        0.360277\n",
       "min          0.092561        0.286582        0.503706        0.095383\n",
       "25%          0.161165        0.419510        0.528513        0.337769\n",
       "50%          0.370232        0.476642        0.555951        0.583171\n",
       "75%          0.644314        0.583618        0.655847        0.787284\n",
       "max          0.907966        0.866075        0.898027        0.905800"
      ]
     },
     "execution_count": 4,
     "metadata": {},
     "output_type": "execute_result"
    }
   ],
   "source": [
    "# Task 3\n",
    "df.describe()"
   ]
  },
  {
   "cell_type": "code",
   "execution_count": 5,
   "metadata": {},
   "outputs": [
    {
     "name": "stdout",
     "output_type": "stream",
     "text": [
      "0    0.286582\n",
      "1    0.866075\n",
      "2    0.489465\n",
      "3    0.463819\n",
      "Name: Random value 2, dtype: float64\n",
      "0    0.503706\n",
      "1    0.536781\n",
      "2    0.898027\n",
      "3    0.575121\n",
      "Name: Random value 3, dtype: float64\n"
     ]
    }
   ],
   "source": [
    "# Task 4\n",
    "print(df.loc[:, 'Random value 2'])\n",
    "print(df.iloc[:, 2])"
   ]
  }
 ],
 "metadata": {
  "kernelspec": {
   "display_name": "Python 3",
   "language": "python",
   "name": "python3"
  },
  "language_info": {
   "codemirror_mode": {
    "name": "ipython",
    "version": 3
   },
   "file_extension": ".py",
   "mimetype": "text/x-python",
   "name": "python",
   "nbconvert_exporter": "python",
   "pygments_lexer": "ipython3",
   "version": "3.10.10"
  },
  "orig_nbformat": 4
 },
 "nbformat": 4,
 "nbformat_minor": 2
}
